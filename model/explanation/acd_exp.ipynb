{
 "cells": [
  {
   "cell_type": "code",
   "execution_count": 164,
   "metadata": {
    "tags": []
   },
   "outputs": [],
   "source": [
    "import numpy as np\n",
    "import matplotlib.pyplot as plt\n",
    "import foolbox\n",
    "import torch\n",
    "import random\n",
    "import sys\n",
    "from tqdm import tqdm\n",
    "\n",
    "import viz_2d as viz\n",
    "import acd\n",
    "import dset\n",
    "\n",
    "# %%\n",
    "import torch.nn as nn\n",
    "import torch.nn.functional as F\n",
    "\n",
    "sys.path.append('/umich/Library/Mobile Documents/com~apple~CloudDocs/BHEM')\n",
    "from model import Cnn, getClassifier\n",
    "from dataset import handwriting"
   ]
  },
  {
   "cell_type": "code",
   "execution_count": 165,
   "metadata": {
    "tags": []
   },
   "outputs": [],
   "source": [
    "model_type = 'mnist'"
   ]
  },
  {
   "cell_type": "code",
   "execution_count": 166,
   "metadata": {
    "tags": []
   },
   "outputs": [],
   "source": [
    "device = 'cuda' if torch.cuda.is_available() else 'cpu'"
   ]
  },
  {
   "cell_type": "code",
   "execution_count": 167,
   "metadata": {
    "tags": []
   },
   "outputs": [
    {
     "name": "stdout",
     "output_type": "stream",
     "text": [
      "<class 'dataset.mnist.handwriting'> <class 'numpy.ndarray'> <class 'numpy.ndarray'> <class 'numpy.ndarray'>\n",
      "[5 0 4 ... 4 5 6]\n"
     ]
    }
   ],
   "source": [
    "mnist = handwriting('mnist_784', normalize=True)\n",
    "print(type(mnist), type(mnist.X), type(mnist.y), type(mnist.XCnn))\n",
    "print(mnist.y)\n",
    "import matplotlib.pyplot as plt\n",
    "\n",
    "# plt.imshow(mnist.XCnn[0].reshape(28, 28), cmap='gray')\n",
    "# plt.show()"
   ]
  },
  {
   "cell_type": "code",
   "execution_count": 154,
   "metadata": {
    "tags": []
   },
   "outputs": [
    {
     "data": {
      "text/plain": [
       "((70000, 784), (70000,), (70000, 1, 28, 28))"
      ]
     },
     "execution_count": 154,
     "metadata": {},
     "output_type": "execute_result"
    }
   ],
   "source": [
    "mnist.X.shape, mnist.y.shape, mnist.XCnn.shape"
   ]
  },
  {
   "cell_type": "code",
   "execution_count": 168,
   "metadata": {
    "tags": []
   },
   "outputs": [
    {
     "data": {
      "text/plain": [
       "Cnn(\n",
       "  (conv1): Conv2d(1, 32, kernel_size=(3, 3), stride=(1, 1))\n",
       "  (conv2): Conv2d(32, 64, kernel_size=(3, 3), stride=(1, 1))\n",
       "  (conv2_drop): Dropout2d(p=0.5, inplace=False)\n",
       "  (fc1): Linear(in_features=1600, out_features=100, bias=True)\n",
       "  (fc2): Linear(in_features=100, out_features=10, bias=True)\n",
       "  (fc1_drop): Dropout(p=0.5, inplace=False)\n",
       ")"
      ]
     },
     "execution_count": 168,
     "metadata": {},
     "output_type": "execute_result"
    }
   ],
   "source": [
    "model = Cnn()\n",
    "checkpoint = torch.load('../../MINST.pkl', map_location=torch.device('cpu'))\n",
    "model.load_state_dict(checkpoint)\n",
    "model.to(device)"
   ]
  },
  {
   "cell_type": "code",
   "execution_count": 169,
   "metadata": {
    "tags": []
   },
   "outputs": [
    {
     "data": {
      "text/plain": [
       "(torch.Size([1, 1, 28, 28]), torch.Size([1, 10]))"
      ]
     },
     "execution_count": 169,
     "metadata": {},
     "output_type": "execute_result"
    }
   ],
   "source": [
    "Xsample = torch.tensor(mnist.XCnn[0:1]).to(device)\n",
    "X_preds = model(Xsample)\n",
    "Xsample.shape, X_preds.shape"
   ]
  },
  {
   "cell_type": "code",
   "execution_count": 157,
   "metadata": {
    "tags": []
   },
   "outputs": [],
   "source": [
    "# cnn = getClassifier(Cnn, device, f_params='../../MINST.pkl')\n",
    "# X_preds = cnn.predict_proba(Xsample)\n",
    "# Xsample.shape, X_preds.shape\n",
    "# X_preds"
   ]
  },
  {
   "cell_type": "code",
   "execution_count": 259,
   "metadata": {
    "tags": []
   },
   "outputs": [],
   "source": [
    "class AcdExp:\n",
    "    def __init__(self, image = None, sweep_dim=1):\n",
    "       # image: tensor(1,1,28,28)\n",
    "       self.image = image\n",
    "       self.sweep_dim = sweep_dim\n",
    "\n",
    "    def get_diff_scores(self, im_torch, im_orig, label_num, model, preds, sweep_dim):\n",
    "        '''Computes different attribution scores\n",
    "        '''\n",
    "        scores = []\n",
    "\n",
    "        # cd\n",
    "        # method = 'cd'\n",
    "        # tiles = acd.tiling_2d.gen_tiles(im_orig, fill=0, method=method, sweep_dim=sweep_dim)\n",
    "        # scores_cd = acd.get_scores_2d(model, method=method, ims=tiles, \n",
    "        #                             im_torch=im_torch, model_type=model_type, device=device)\n",
    "        # scores.append(scores_cd)\n",
    "\n",
    "        for method in ['occlusion', 'build_up']: # 'build_up'\n",
    "            tiles_break = acd.tiling_2d.gen_tiles(im_orig, fill=0, method=method, sweep_dim=sweep_dim)\n",
    "            preds_break = acd.get_scores_2d(model, method=method, ims=tiles_break, \n",
    "                                                im_torch=im_torch, pred_ims=dset.pred_ims)\n",
    "            if method == 'occlusion':\n",
    "                preds_break += preds\n",
    "            scores.append(np.copy(preds_break))\n",
    "        \n",
    "        # get integrated gradients scores\n",
    "        scores.append(acd.ig_scores_2d(model, im_torch, num_classes=10, \n",
    "                                            im_size=28, sweep_dim=sweep_dim, ind=[label_num], device=device))\n",
    "        return scores\n",
    "\n",
    "    def get_explanation(self, model, label):\n",
    "        # model is cnn object\n",
    "        # self.image is (1,1,28,28) tensor\n",
    "        X_orig = self.image.view(self.image.shape[-2], self.image.shape[-1]).cpu().numpy()\n",
    "        # pred.size = (10,)\n",
    "        preds = model(self.image).flatten().cpu().detach().numpy()\n",
    "        scores = self.get_diff_scores(self.image, X_orig, label, model, preds, self.sweep_dim)\n",
    "        return scores\n",
    "    \n",
    "    def plot_raw_scores(self, scores):\n",
    "        # raw image\n",
    "        raw_image = self.image.view(image.shape[-2], image.shape[-1]).numpy()\n",
    "        titles = ['Occlusion', 'Build-Up', 'IG']\n",
    "        \n",
    "        for i in range(len(scores)):\n",
    "            score = scores[i]\n",
    "            score = score.reshape(28,28,10)\n",
    "            score = np.moveaxis(score, -1, 0)\n",
    "\n",
    "            from matplotlib.colors import LinearSegmentedColormap\n",
    "            colors = []\n",
    "            for j in np.linspace(1, 0, 100):\n",
    "                colors.append((30./255, 136./255, 229./255,j))\n",
    "            for j in np.linspace(0, 1, 100):\n",
    "                colors.append((255./255, 13./255, 87./255,j))\n",
    "            red_transparent_blue = LinearSegmentedColormap.from_list(\"red_transparent_blue\", colors)\n",
    "\n",
    "            plt.figure(figsize=(40, 10))\n",
    "            for j in range(11):\n",
    "                plt.subplot(i+1, 11, j+1)\n",
    "                if j == 0:\n",
    "                    plt.imshow(raw_image, cmap='gray')\n",
    "                    plt.xticks([])\n",
    "                    plt.yticks([])\n",
    "                    plt.ylabel(titles[i], fontsize = 30)\n",
    "                else:\n",
    "                    # plt.imshow(-bhem_exp.image, cmap='gray', alpha=0.3)\n",
    "                    plt.imshow(score[j-1], cmap=red_transparent_blue, vmin=-np.nanpercentile(score, 99.9),vmax=np.nanpercentile(score, 99.9))\n",
    "                    plt.axis('off')\n",
    "            plt.show()\n",
    "        \n",
    "        \n",
    "\n",
    "            # # plot raw image\n",
    "            # num_rows = len(im_nums)\n",
    "            # num_cols = len(scores) + 1\n",
    "            # plt.subplot(num_rows, num_cols, 1 + x * num_cols)\n",
    "            # plt.imshow(im_orig, cmap='gray')\n",
    "            # plt.gca().xaxis.set_visible(False)\n",
    "            # plt.yticks([])\n",
    "            # if x == 0:\n",
    "            #     plt.title('Image', fontsize=16)\n",
    "\n",
    "\n",
    "            # # plot scores\n",
    "            # vmax = max([np.max(scores[i]) for i in range(len(scores))])\n",
    "            # vmin = min([np.min(scores[i]) for i in range(len(scores))])\n",
    "            # vabs = max(abs(vmax), abs(vmin))\n",
    "            # for i, tit in enumerate(['CD', 'Occlusion', 'Build-Up', 'IG']):\n",
    "            #     plt.subplot(num_rows, num_cols, 2 + i + x * num_cols)\n",
    "            #     if i == 0:\n",
    "            #         plt.ylabel('pred: ' + str(ind[0]) + '...', fontsize=15)\n",
    "            #     if x == 0:\n",
    "            #         plt.title(tit, fontsize=16)\n",
    "            #     p = viz.visualize_preds(scores[i], num=label_num, cbar=False) #axis_off=False,  vabs=vabs)\n",
    "            #     plt.xticks([])\n",
    "            #     plt.yticks([])\n",
    "            #     divider = make_axes_locatable(plt.gca())\n",
    "            #     cax = divider.append_axes(\"right\", size=\"2%\", pad=0.05)\n",
    "            #     plt.colorbar(p, cax=cax)"
   ]
  },
  {
   "cell_type": "code",
   "execution_count": 260,
   "metadata": {
    "tags": []
   },
   "outputs": [],
   "source": [
    "image = torch.tensor(mnist.XCnn[0].reshape(-1, 1, 28, 28)).to(device)\n",
    "ACDexp = AcdExp(image, sweep_dim=1)"
   ]
  },
  {
   "cell_type": "code",
   "execution_count": 261,
   "metadata": {
    "tags": []
   },
   "outputs": [
    {
     "data": {
      "image/png": "[encoded data removed]",
      "text/plain": [
       "<Figure size 4000x1000 with 11 Axes>"
      ]
     },
     "metadata": {},
     "output_type": "display_data"
    },
    {
     "data": {
      "image/png": "[encoded data removed]",
      "text/plain": [
       "<Figure size 4000x1000 with 11 Axes>"
      ]
     },
     "metadata": {},
     "output_type": "display_data"
    },
    {
     "data": {
      "image/png": "[encoded data removed]",
      "text/plain": [
       "<Figure size 4000x1000 with 11 Axes>"
      ]
     },
     "metadata": {},
     "output_type": "display_data"
    }
   ],
   "source": [
    "ACDexp.plot_raw_scores(scores)"
   ]
  },
  {
   "cell_type": "markdown",
   "metadata": {},
   "source": [
    "# load the dataset"
   ]
  },
  {
   "cell_type": "code",
   "execution_count": 171,
   "metadata": {
    "tags": []
   },
   "outputs": [],
   "source": [
    "image = torch.tensor(mnist.XCnn[0].reshape(-1, 1, 28, 28)).to(device)"
   ]
  },
  {
   "cell_type": "code",
   "execution_count": 172,
   "metadata": {
    "tags": []
   },
   "outputs": [
    {
     "data": {
      "text/plain": [
       "torch.Size([1, 1, 28, 28])"
      ]
     },
     "execution_count": 172,
     "metadata": {},
     "output_type": "execute_result"
    }
   ],
   "source": [
    "image.shape"
   ]
  },
  {
   "cell_type": "code",
   "execution_count": 173,
   "metadata": {
    "tags": []
   },
   "outputs": [
    {
     "data": {
      "text/plain": [
       "5"
      ]
     },
     "execution_count": 173,
     "metadata": {},
     "output_type": "execute_result"
    }
   ],
   "source": [
    "mnist.y[0]"
   ]
  },
  {
   "cell_type": "markdown",
   "metadata": {},
   "source": [
    "# load the model"
   ]
  },
  {
   "cell_type": "code",
   "execution_count": 174,
   "metadata": {
    "tags": []
   },
   "outputs": [
    {
     "ename": "AssertionError",
     "evalue": "Torch not compiled with CUDA enabled",
     "output_type": "error",
     "traceback": [
      "\u001b[0;31m---------------------------------------------------------------------------\u001b[0m",
      "\u001b[0;31mAssertionError\u001b[0m                            Traceback (most recent call last)",
      "Cell \u001b[0;32mIn[174], line 2\u001b[0m\n\u001b[1;32m      1\u001b[0m ACDexp \u001b[38;5;241m=\u001b[39m AcdExp(image, sweep_dim\u001b[38;5;241m=\u001b[39m\u001b[38;5;241m1\u001b[39m)\n\u001b[0;32m----> 2\u001b[0m scores \u001b[38;5;241m=\u001b[39m ACDexp\u001b[38;5;241m.\u001b[39mget_explanation(model, mnist\u001b[38;5;241m.\u001b[39my[\u001b[38;5;241m0\u001b[39m])\n",
      "Cell \u001b[0;32mIn[170], line 38\u001b[0m, in \u001b[0;36mAcdExp.get_explanation\u001b[0;34m(self, model, label)\u001b[0m\n\u001b[1;32m     36\u001b[0m \u001b[38;5;66;03m# pred.size = (10,)\u001b[39;00m\n\u001b[1;32m     37\u001b[0m preds \u001b[38;5;241m=\u001b[39m model(\u001b[38;5;28mself\u001b[39m\u001b[38;5;241m.\u001b[39mimage)\u001b[38;5;241m.\u001b[39mflatten()\u001b[38;5;241m.\u001b[39mcpu()\u001b[38;5;241m.\u001b[39mdetach()\u001b[38;5;241m.\u001b[39mnumpy()\n\u001b[0;32m---> 38\u001b[0m scores \u001b[38;5;241m=\u001b[39m \u001b[38;5;28mself\u001b[39m\u001b[38;5;241m.\u001b[39mget_diff_scores(\u001b[38;5;28mself\u001b[39m\u001b[38;5;241m.\u001b[39mimage, X_orig, label, model, preds, \u001b[38;5;28mself\u001b[39m\u001b[38;5;241m.\u001b[39msweep_dim)\n\u001b[1;32m     39\u001b[0m \u001b[38;5;28;01mreturn\u001b[39;00m scores\n",
      "Cell \u001b[0;32mIn[170], line 21\u001b[0m, in \u001b[0;36mAcdExp.get_diff_scores\u001b[0;34m(self, im_torch, im_orig, label_num, model, preds, sweep_dim)\u001b[0m\n\u001b[1;32m     19\u001b[0m \u001b[38;5;28;01mfor\u001b[39;00m method \u001b[38;5;129;01min\u001b[39;00m [\u001b[38;5;124m'\u001b[39m\u001b[38;5;124mocclusion\u001b[39m\u001b[38;5;124m'\u001b[39m, \u001b[38;5;124m'\u001b[39m\u001b[38;5;124mbuild_up\u001b[39m\u001b[38;5;124m'\u001b[39m]: \u001b[38;5;66;03m# 'build_up'\u001b[39;00m\n\u001b[1;32m     20\u001b[0m     tiles_break \u001b[38;5;241m=\u001b[39m acd\u001b[38;5;241m.\u001b[39mtiling_2d\u001b[38;5;241m.\u001b[39mgen_tiles(im_orig, fill\u001b[38;5;241m=\u001b[39m\u001b[38;5;241m0\u001b[39m, method\u001b[38;5;241m=\u001b[39mmethod, sweep_dim\u001b[38;5;241m=\u001b[39msweep_dim)\n\u001b[0;32m---> 21\u001b[0m     preds_break \u001b[38;5;241m=\u001b[39m acd\u001b[38;5;241m.\u001b[39mget_scores_2d(model, method\u001b[38;5;241m=\u001b[39mmethod, ims\u001b[38;5;241m=\u001b[39mtiles_break, \n\u001b[1;32m     22\u001b[0m                                         im_torch\u001b[38;5;241m=\u001b[39mim_torch, pred_ims\u001b[38;5;241m=\u001b[39mdset\u001b[38;5;241m.\u001b[39mpred_ims)\n\u001b[1;32m     23\u001b[0m     \u001b[38;5;28;01mif\u001b[39;00m method \u001b[38;5;241m==\u001b[39m \u001b[38;5;124m'\u001b[39m\u001b[38;5;124mocclusion\u001b[39m\u001b[38;5;124m'\u001b[39m:\n\u001b[1;32m     24\u001b[0m         preds_break \u001b[38;5;241m+\u001b[39m\u001b[38;5;241m=\u001b[39m preds\n",
      "File \u001b[0;32m/opt/conda/lib/python3.11/site-packages/acd/scores/score_funcs.py:180\u001b[0m, in \u001b[0;36mget_scores_2d\u001b[0;34m(model, method, ims, im_torch, pred_ims, model_type, device)\u001b[0m\n\u001b[1;32m    178\u001b[0m \u001b[38;5;28;01melif\u001b[39;00m method \u001b[38;5;241m==\u001b[39m \u001b[38;5;124m'\u001b[39m\u001b[38;5;124mocclusion\u001b[39m\u001b[38;5;124m'\u001b[39m:\n\u001b[1;32m    179\u001b[0m     \u001b[38;5;28;01mfor\u001b[39;00m i \u001b[38;5;129;01min\u001b[39;00m \u001b[38;5;28mrange\u001b[39m(ims\u001b[38;5;241m.\u001b[39mshape[\u001b[38;5;241m0\u001b[39m]):  \u001b[38;5;66;03m# can use tqdm here, need to use batches\u001b[39;00m\n\u001b[0;32m--> 180\u001b[0m         scores\u001b[38;5;241m.\u001b[39mappend(pred_ims(model, ims[i])[\u001b[38;5;241m0\u001b[39m])\n\u001b[1;32m    181\u001b[0m     scores \u001b[38;5;241m=\u001b[39m \u001b[38;5;241m-\u001b[39m\u001b[38;5;241m1\u001b[39m \u001b[38;5;241m*\u001b[39m np\u001b[38;5;241m.\u001b[39msqueeze(np\u001b[38;5;241m.\u001b[39marray(scores))\n\u001b[1;32m    182\u001b[0m \u001b[38;5;28;01mif\u001b[39;00m scores\u001b[38;5;241m.\u001b[39mndim \u001b[38;5;241m==\u001b[39m \u001b[38;5;241m1\u001b[39m:\n",
      "File \u001b[0;32m/umich/Library/Mobile Documents/com~apple~CloudDocs/BHEM/model/explanation/dset.py:100\u001b[0m, in \u001b[0;36mpred_ims\u001b[0;34m(model, ims, layer, device)\u001b[0m\n\u001b[1;32m     98\u001b[0m \u001b[38;5;28;01mif\u001b[39;00m \u001b[38;5;28mlen\u001b[39m(ims\u001b[38;5;241m.\u001b[39mshape) \u001b[38;5;241m==\u001b[39m \u001b[38;5;241m2\u001b[39m:\n\u001b[1;32m     99\u001b[0m     ims \u001b[38;5;241m=\u001b[39m np\u001b[38;5;241m.\u001b[39mexpand_dims(ims, \u001b[38;5;241m0\u001b[39m)\n\u001b[0;32m--> 100\u001b[0m ims_torch \u001b[38;5;241m=\u001b[39m torch\u001b[38;5;241m.\u001b[39munsqueeze(torch\u001b[38;5;241m.\u001b[39mTensor(ims), \u001b[38;5;241m1\u001b[39m)\u001b[38;5;241m.\u001b[39mfloat()\u001b[38;5;241m.\u001b[39mto(device) \u001b[38;5;66;03m# cuda()\u001b[39;00m\n\u001b[1;32m    101\u001b[0m preds \u001b[38;5;241m=\u001b[39m model(ims_torch)\n\u001b[1;32m    103\u001b[0m \u001b[38;5;66;03m# todo - build in logit support\u001b[39;00m\n\u001b[1;32m    104\u001b[0m \u001b[38;5;66;03m# logits = model.logits(t)\u001b[39;00m\n",
      "File \u001b[0;32m/opt/conda/lib/python3.11/site-packages/torch/cuda/__init__.py:239\u001b[0m, in \u001b[0;36m_lazy_init\u001b[0;34m()\u001b[0m\n\u001b[1;32m    235\u001b[0m     \u001b[38;5;28;01mraise\u001b[39;00m \u001b[38;5;167;01mRuntimeError\u001b[39;00m(\n\u001b[1;32m    236\u001b[0m         \u001b[38;5;124m\"\u001b[39m\u001b[38;5;124mCannot re-initialize CUDA in forked subprocess. To use CUDA with \u001b[39m\u001b[38;5;124m\"\u001b[39m\n\u001b[1;32m    237\u001b[0m         \u001b[38;5;124m\"\u001b[39m\u001b[38;5;124mmultiprocessing, you must use the \u001b[39m\u001b[38;5;124m'\u001b[39m\u001b[38;5;124mspawn\u001b[39m\u001b[38;5;124m'\u001b[39m\u001b[38;5;124m start method\u001b[39m\u001b[38;5;124m\"\u001b[39m)\n\u001b[1;32m    238\u001b[0m \u001b[38;5;28;01mif\u001b[39;00m \u001b[38;5;129;01mnot\u001b[39;00m \u001b[38;5;28mhasattr\u001b[39m(torch\u001b[38;5;241m.\u001b[39m_C, \u001b[38;5;124m'\u001b[39m\u001b[38;5;124m_cuda_getDeviceCount\u001b[39m\u001b[38;5;124m'\u001b[39m):\n\u001b[0;32m--> 239\u001b[0m     \u001b[38;5;28;01mraise\u001b[39;00m \u001b[38;5;167;01mAssertionError\u001b[39;00m(\u001b[38;5;124m\"\u001b[39m\u001b[38;5;124mTorch not compiled with CUDA enabled\u001b[39m\u001b[38;5;124m\"\u001b[39m)\n\u001b[1;32m    240\u001b[0m \u001b[38;5;28;01mif\u001b[39;00m _cudart \u001b[38;5;129;01mis\u001b[39;00m \u001b[38;5;28;01mNone\u001b[39;00m:\n\u001b[1;32m    241\u001b[0m     \u001b[38;5;28;01mraise\u001b[39;00m \u001b[38;5;167;01mAssertionError\u001b[39;00m(\n\u001b[1;32m    242\u001b[0m         \u001b[38;5;124m\"\u001b[39m\u001b[38;5;124mlibcudart functions unavailable. It looks like you have a broken build?\u001b[39m\u001b[38;5;124m\"\u001b[39m)\n",
      "\u001b[0;31mAssertionError\u001b[0m: Torch not compiled with CUDA enabled"
     ]
    }
   ],
   "source": [
    "ACDexp = AcdExp(image, sweep_dim=1)\n",
    "scores = ACDexp.get_explanation(model, mnist.y[0])"
   ]
  },
  {
   "cell_type": "code",
   "execution_count": 178,
   "metadata": {
    "tags": []
   },
   "outputs": [],
   "source": [
    "score = scores[0]"
   ]
  },
  {
   "cell_type": "code",
   "execution_count": 179,
   "metadata": {
    "tags": []
   },
   "outputs": [
    {
     "data": {
      "text/plain": [
       "(784, 10)"
      ]
     },
     "execution_count": 179,
     "metadata": {},
     "output_type": "execute_result"
    }
   ],
   "source": [
    "score.shape"
   ]
  },
  {
   "cell_type": "code",
   "execution_count": 180,
   "metadata": {
    "tags": []
   },
   "outputs": [
    {
     "name": "stdout",
     "output_type": "stream",
     "text": [
      "(28, 28, 10)\n"
     ]
    }
   ],
   "source": [
    "score = score.reshape(28,28,10)\n",
    "print(score.shape)"
   ]
  },
  {
   "cell_type": "code",
   "execution_count": 181,
   "metadata": {
    "tags": []
   },
   "outputs": [
    {
     "data": {
      "text/plain": [
       "(10, 28, 28)"
      ]
     },
     "execution_count": 181,
     "metadata": {},
     "output_type": "execute_result"
    }
   ],
   "source": [
    "score = np.moveaxis(score, -1, 0)\n",
    "score.shape"
   ]
  },
  {
   "cell_type": "code",
   "execution_count": 182,
   "metadata": {
    "tags": []
   },
   "outputs": [],
   "source": [
    "from matplotlib.colors import LinearSegmentedColormap\n",
    "colors = []\n",
    "for j in np.linspace(1, 0, 100):\n",
    "    colors.append((30./255, 136./255, 229./255,j))\n",
    "for j in np.linspace(0, 1, 100):\n",
    "    colors.append((255./255, 13./255, 87./255,j))\n",
    "red_transparent_blue = LinearSegmentedColormap.from_list(\"red_transparent_blue\", colors)"
   ]
  },
  {
   "cell_type": "code",
   "execution_count": 183,
   "metadata": {
    "tags": []
   },
   "outputs": [
    {
     "data": {
      "image/png": "[encoded data removed]",
      "text/plain": [
       "<Figure size 4000x1000 with 10 Axes>"
      ]
     },
     "metadata": {},
     "output_type": "display_data"
    }
   ],
   "source": [
    "plt.figure(figsize=(40, 10))\n",
    "\n",
    "for i in range(10):\n",
    "    plt.subplot(1, 10, i+1)\n",
    "    # plt.imshow(-bhem_exp.image, cmap='gray', alpha=0.3)\n",
    "    plt.imshow(score[i], cmap=red_transparent_blue, vmin=-np.nanpercentile(score, 99.9),vmax=np.nanpercentile(score, 99.9))\n",
    "    plt.axis('off')\n",
    "\n",
    "plt.show()"
   ]
  },
  {
   "cell_type": "markdown",
   "metadata": {},
   "source": [
    "# Score Function"
   ]
  },
  {
   "cell_type": "code",
   "execution_count": 62,
   "metadata": {},
   "outputs": [],
   "source": [
    "def get_diff_scores(im_torch, im_orig, label_num, model, preds, sweep_dim):\n",
    "    '''Computes different attribution scores\n",
    "    '''\n",
    "    scores = []\n",
    "\n",
    "    # cd\n",
    "    method = 'cd'\n",
    "    tiles = acd.tiling_2d.gen_tiles(im_orig, fill=0, method=method, sweep_dim=sweep_dim)\n",
    "    scores_cd = acd.get_scores_2d(model, method=method, ims=tiles, \n",
    "                                   im_torch=im_torch, model_type=model_type, device=device)\n",
    "    scores.append(scores_cd)\n",
    "    for method in ['occlusion', 'build_up']: # 'build_up'\n",
    "        tiles_break = acd.tiling_2d.gen_tiles(im_orig, fill=0, method=method, sweep_dim=sweep_dim)\n",
    "        preds_break = acd.get_scores_2d(model, method=method, ims=tiles_break, \n",
    "                                            im_torch=im_torch, pred_ims=dset.pred_ims)\n",
    "        if method == 'occlusion':\n",
    "            preds_break += preds\n",
    "        scores.append(np.copy(preds_break))\n",
    "    \n",
    "    # get integrated gradients scores\n",
    "    scores.append(acd.ig_scores_2d(model, im_torch, num_classes=10, \n",
    "                                           im_size=28, sweep_dim=sweep_dim, ind=[label_num], device=device))\n",
    "    return scores"
   ]
  }
 ],
 "metadata": {
  "kernelspec": {
   "display_name": "Python 3 (ipykernel)",
   "language": "python",
   "name": "python3"
  },
  "language_info": {
   "codemirror_mode": {
    "name": "ipython",
    "version": 3
   },
   "file_extension": ".py",
   "mimetype": "text/x-python",
   "name": "python",
   "nbconvert_exporter": "python",
   "pygments_lexer": "ipython3",
   "version": "3.11.3"
  }
 },
 "nbformat": 4,
 "nbformat_minor": 4
}
