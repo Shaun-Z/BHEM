{
 "cells": [
  {
   "cell_type": "code",
   "execution_count": 1,
   "metadata": {},
   "outputs": [],
   "source": [
    "import numpy as np\n",
    "import matplotlib.pyplot as plt\n",
    "import foolbox\n",
    "import torch\n",
    "import random\n",
    "import sys\n",
    "from tqdm import tqdm\n",
    "\n",
    "import viz_2d as viz\n",
    "import acd\n",
    "import dset\n",
    "\n",
    "# %%\n",
    "import torch.nn as nn\n",
    "import torch.nn.functional as F"
   ]
  },
  {
   "cell_type": "code",
   "execution_count": 2,
   "metadata": {},
   "outputs": [],
   "source": [
    "model_type = 'mnist'"
   ]
  },
  {
   "cell_type": "code",
   "execution_count": 3,
   "metadata": {},
   "outputs": [],
   "source": [
    "device = 'cuda' if torch.cuda.is_available() else 'cpu'"
   ]
  },
  {
   "cell_type": "code",
   "execution_count": 4,
   "metadata": {},
   "outputs": [],
   "source": [
    "class AcdExp:\n",
    "    def __init__(self, image = None, sweep_dim=1):\n",
    "       self.image = image\n",
    "       self.sweep_dim = sweep_dim\n",
    "\n",
    "    def get_diff_scores(self, im_torch, im_orig, label_num, model, preds, sweep_dim):\n",
    "        '''Computes different attribution scores\n",
    "        '''\n",
    "        scores = []\n",
    "\n",
    "        # cd\n",
    "        method = 'cd'\n",
    "        tiles = acd.tiling_2d.gen_tiles(im_orig, fill=0, method=method, sweep_dim=sweep_dim)\n",
    "        scores_cd = acd.get_scores_2d(model, method=method, ims=tiles, \n",
    "                                    im_torch=im_torch, model_type=model_type, device=device)\n",
    "        scores.append(scores_cd)\n",
    "        for method in ['occlusion', 'build_up']: # 'build_up'\n",
    "            tiles_break = acd.tiling_2d.gen_tiles(im_orig, fill=0, method=method, sweep_dim=sweep_dim)\n",
    "            preds_break = acd.get_scores_2d(model, method=method, ims=tiles_break, \n",
    "                                                im_torch=im_torch, pred_ims=dset.pred_ims)\n",
    "            if method == 'occlusion':\n",
    "                preds_break += preds\n",
    "            scores.append(np.copy(preds_break))\n",
    "        \n",
    "        # get integrated gradients scores\n",
    "        scores.append(acd.ig_scores_2d(model, im_torch, num_classes=10, \n",
    "                                            im_size=28, sweep_dim=sweep_dim, ind=[label_num], device=device))\n",
    "        return scores\n",
    "\n",
    "    def get_explanation(self, model, img_ID):\n",
    "\n",
    "        im_torch, im_orig, label_num = dset.get_im_and_label(img_ID, device=device) # this will download the mnist dataset\n",
    "        preds = dset.pred_ims(model, im_orig, device=device).flatten()\n",
    "        ind = np.argpartition(preds, -8)[-8:] # top-scoring indexes\n",
    "        ind = ind[np.argsort(preds[ind])][::-1] # sort the indexes\n",
    "        scores = self.get_diff_scores(im_torch, im_orig, label_num, model, preds, self.sweep_dim)\n",
    "\n",
    "        return scores[0]\n",
    "\n",
    "            # # plot raw image\n",
    "            # num_rows = len(im_nums)\n",
    "            # num_cols = len(scores) + 1\n",
    "            # plt.subplot(num_rows, num_cols, 1 + x * num_cols)\n",
    "            # plt.imshow(im_orig, cmap='gray')\n",
    "            # plt.gca().xaxis.set_visible(False)\n",
    "            # plt.yticks([])\n",
    "            # if x == 0:\n",
    "            #     plt.title('Image', fontsize=16)\n",
    "\n",
    "\n",
    "            # # plot scores\n",
    "            # vmax = max([np.max(scores[i]) for i in range(len(scores))])\n",
    "            # vmin = min([np.min(scores[i]) for i in range(len(scores))])\n",
    "            # vabs = max(abs(vmax), abs(vmin))\n",
    "            # for i, tit in enumerate(['CD', 'Occlusion', 'Build-Up', 'IG']):\n",
    "            #     plt.subplot(num_rows, num_cols, 2 + i + x * num_cols)\n",
    "            #     if i == 0:\n",
    "            #         plt.ylabel('pred: ' + str(ind[0]) + '...', fontsize=15)\n",
    "            #     if x == 0:\n",
    "            #         plt.title(tit, fontsize=16)\n",
    "            #     p = viz.visualize_preds(scores[i], num=label_num, cbar=False) #axis_off=False,  vabs=vabs)\n",
    "            #     plt.xticks([])\n",
    "            #     plt.yticks([])\n",
    "            #     divider = make_axes_locatable(plt.gca())\n",
    "            #     cax = divider.append_axes(\"right\", size=\"2%\", pad=0.05)\n",
    "            #     plt.colorbar(p, cax=cax)"
   ]
  },
  {
   "cell_type": "markdown",
   "metadata": {},
   "source": [
    "# Model"
   ]
  },
  {
   "cell_type": "code",
   "execution_count": 5,
   "metadata": {},
   "outputs": [],
   "source": [
    "class Net(nn.Module):\n",
    "    '''A simple conv net\n",
    "    '''\n",
    "    def __init__(self):\n",
    "        super(Net, self).__init__()\n",
    "        self.conv1 = nn.Conv2d(1, 10, kernel_size=5)\n",
    "        self.conv2 = nn.Conv2d(10, 20, kernel_size=5)\n",
    "        self.conv2_drop = nn.Dropout2d()\n",
    "        self.fc1 = nn.Linear(320, 50)\n",
    "        self.fc2 = nn.Linear(50, 10)\n",
    "\n",
    "    def forward(self, x):\n",
    "        x = F.relu(F.max_pool2d(self.conv1(x), 2))\n",
    "        x = F.relu(F.max_pool2d(self.conv2_drop(self.conv2(x)), 2))\n",
    "        x = x.view(-1, 320)\n",
    "        x = F.relu(self.fc1(x))\n",
    "        x = F.dropout(x, training=self.training)\n",
    "        x = self.fc2(x)\n",
    "        return F.log_softmax(x, dim=1)\n",
    "\n",
    "    def logits(self, x):\n",
    "        x = F.relu(F.max_pool2d(self.conv1(x), 2))\n",
    "        x = F.relu(F.max_pool2d(self.conv2_drop(self.conv2(x)), 2))\n",
    "        x = x.view(-1, 320)\n",
    "        x = F.relu(self.fc1(x))\n",
    "        x = F.dropout(x, training=self.training)\n",
    "        x = self.fc2(x)\n",
    "        return x\n",
    "\n",
    "    def predicted_class(self, x):\n",
    "        pred = self.forward(x)\n",
    "        _, pred = pred[0].max(0)\n",
    "        return pred.item() #data[0]"
   ]
  },
  {
   "cell_type": "markdown",
   "metadata": {},
   "source": [
    "# load the dataset"
   ]
  },
  {
   "cell_type": "code",
   "execution_count": 6,
   "metadata": {},
   "outputs": [],
   "source": [
    "im_torch, im_orig, label = dset.get_im_and_label(250, device=device) # this will download the mnist dataset"
   ]
  },
  {
   "cell_type": "markdown",
   "metadata": {},
   "source": [
    "# load the model"
   ]
  },
  {
   "cell_type": "code",
   "execution_count": 7,
   "metadata": {},
   "outputs": [],
   "source": [
    "model = Net().to(device)\n",
    "model.load_state_dict(torch.load('./mnist.model', map_location=device))\n",
    "model = model.eval()"
   ]
  },
  {
   "cell_type": "code",
   "execution_count": 8,
   "metadata": {},
   "outputs": [
    {
     "name": "stderr",
     "output_type": "stream",
     "text": [
      "/home/xiangyu/.conda/envs/PyTc/lib/python3.12/site-packages/torch/nn/_reduction.py:42: UserWarning: size_average and reduce args will be deprecated, please use reduction='sum' instead.\n",
      "  warnings.warn(warning.format(ret))\n",
      "/home/xiangyu/.conda/envs/PyTc/lib/python3.12/site-packages/acd/scores/score_funcs.py:70: UserWarning: Implicit dimension choice for softmax has been deprecated. Change the call to include dim=X as an argument.\n",
      "  out = F.softmax(model(input_vecs))[:, class_to_explain]\n"
     ]
    }
   ],
   "source": [
    "ACDexp = AcdExp(im_orig, sweep_dim=1)\n",
    "score = ACDexp.get_explanation(model, 0)"
   ]
  },
  {
   "cell_type": "code",
   "execution_count": 9,
   "metadata": {},
   "outputs": [
    {
     "name": "stdout",
     "output_type": "stream",
     "text": [
      "(28, 28, 10)\n"
     ]
    }
   ],
   "source": [
    "score = score.reshape(28,28,10)\n",
    "print(score.shape)"
   ]
  },
  {
   "cell_type": "code",
   "execution_count": 10,
   "metadata": {},
   "outputs": [
    {
     "data": {
      "text/plain": [
       "(10, 28, 28)"
      ]
     },
     "execution_count": 10,
     "metadata": {},
     "output_type": "execute_result"
    }
   ],
   "source": [
    "score = np.moveaxis(score, -1, 0)\n",
    "score.shape"
   ]
  },
  {
   "cell_type": "code",
   "execution_count": 11,
   "metadata": {},
   "outputs": [],
   "source": [
    "from matplotlib.colors import LinearSegmentedColormap\n",
    "colors = []\n",
    "for j in np.linspace(1, 0, 100):\n",
    "    colors.append((30./255, 136./255, 229./255,j))\n",
    "for j in np.linspace(0, 1, 100):\n",
    "    colors.append((255./255, 13./255, 87./255,j))\n",
    "red_transparent_blue = LinearSegmentedColormap.from_list(\"red_transparent_blue\", colors)"
   ]
  },
  {
   "cell_type": "code",
   "execution_count": 12,
   "metadata": {},
   "outputs": [
    {
     "data": {
      "image/png": "[encoded data removed]",
      "text/plain": [
       "<Figure size 4000x1000 with 10 Axes>"
      ]
     },
     "metadata": {},
     "output_type": "display_data"
    }
   ],
   "source": [
    "plt.figure(figsize=(40, 10))\n",
    "\n",
    "for i in range(10):\n",
    "    plt.subplot(1, 10, i+1)\n",
    "    # plt.imshow(-bhem_exp.image, cmap='gray', alpha=0.3)\n",
    "    plt.imshow(score[i], cmap=red_transparent_blue, vmin=-np.nanpercentile(score, 99.9),vmax=np.nanpercentile(score, 99.9))\n",
    "    plt.axis('off')\n",
    "\n",
    "plt.show()"
   ]
  },
  {
   "cell_type": "markdown",
   "metadata": {},
   "source": [
    "# Score Function"
   ]
  },
  {
   "cell_type": "code",
   "execution_count": 6,
   "metadata": {},
   "outputs": [],
   "source": [
    "def get_diff_scores(im_torch, im_orig, label_num, model, preds, sweep_dim):\n",
    "    '''Computes different attribution scores\n",
    "    '''\n",
    "    scores = []\n",
    "\n",
    "    # cd\n",
    "    method = 'cd'\n",
    "    tiles = acd.tiling_2d.gen_tiles(im_orig, fill=0, method=method, sweep_dim=sweep_dim)\n",
    "    scores_cd = acd.get_scores_2d(model, method=method, ims=tiles, \n",
    "                                   im_torch=im_torch, model_type=model_type, device=device)\n",
    "    scores.append(scores_cd)\n",
    "    for method in ['occlusion', 'build_up']: # 'build_up'\n",
    "        tiles_break = acd.tiling_2d.gen_tiles(im_orig, fill=0, method=method, sweep_dim=sweep_dim)\n",
    "        preds_break = acd.get_scores_2d(model, method=method, ims=tiles_break, \n",
    "                                            im_torch=im_torch, pred_ims=dset.pred_ims)\n",
    "        if method == 'occlusion':\n",
    "            preds_break += preds\n",
    "        scores.append(np.copy(preds_break))\n",
    "    \n",
    "    # get integrated gradients scores\n",
    "    scores.append(acd.ig_scores_2d(model, im_torch, num_classes=10, \n",
    "                                           im_size=28, sweep_dim=sweep_dim, ind=[label_num], device=device))\n",
    "    return scores"
   ]
  },
  {
   "cell_type": "markdown",
   "metadata": {},
   "source": [
    "# pick an image + get scores"
   ]
  },
  {
   "cell_type": "code",
   "execution_count": 7,
   "metadata": {},
   "outputs": [],
   "source": [
    "im_nums = [34, 20, 36, 32] # 34: screen, 20: snake, 36: trash can, 32: crane"
   ]
  },
  {
   "cell_type": "code",
   "execution_count": 8,
   "metadata": {},
   "outputs": [],
   "source": [
    "sweep_dim = 1"
   ]
  },
  {
   "cell_type": "code",
   "execution_count": 9,
   "metadata": {},
   "outputs": [
    {
     "name": "stderr",
     "output_type": "stream",
     "text": [
      "0it [00:00, ?it/s]/home/xiangyu/.conda/envs/PyTc/lib/python3.12/site-packages/torch/nn/_reduction.py:42: UserWarning: size_average and reduce args will be deprecated, please use reduction='sum' instead.\n",
      "  warnings.warn(warning.format(ret))\n",
      "/home/xiangyu/.conda/envs/PyTc/lib/python3.12/site-packages/acd/scores/score_funcs.py:70: UserWarning: Implicit dimension choice for softmax has been deprecated. Change the call to include dim=X as an argument.\n",
      "  out = F.softmax(model(input_vecs))[:, class_to_explain]\n",
      "4it [00:09,  2.28s/it]\n"
     ]
    },
    {
     "data": {
      "image/png": "[encoded data removed]",
      "text/plain": [
       "<Figure size 1000x800 with 20 Axes>"
      ]
     },
     "metadata": {},
     "output_type": "display_data"
    }
   ],
   "source": [
    "fig = plt.figure(figsize=(10, 8), facecolor='white')\n",
    "\n",
    "for x, im_num in tqdm(enumerate(im_nums)):\n",
    "\n",
    "    im_torch, im_orig, label_num = dset.get_im_and_label(im_num, device=device) # this will download the mnist dataset\n",
    "    preds = dset.pred_ims(model, im_orig, device=device).flatten()\n",
    "    ind = np.argpartition(preds, -8)[-8:] # top-scoring indexes\n",
    "    ind = ind[np.argsort(preds[ind])][::-1] # sort the indexes\n",
    "    scores = get_diff_scores(im_torch, im_orig, label_num, model, preds, sweep_dim)\n",
    "\n",
    "    # plot raw image\n",
    "    num_rows = len(im_nums)\n",
    "    num_cols = len(scores) + 1\n",
    "    plt.subplot(num_rows, num_cols, 1 + x * num_cols)\n",
    "    plt.imshow(im_orig, cmap='gray')\n",
    "    plt.gca().xaxis.set_visible(False)\n",
    "    plt.yticks([])\n",
    "    if x == 0:\n",
    "        plt.title('Image', fontsize=16)\n",
    "\n",
    "\n",
    "    # plot scores\n",
    "    vmax = max([np.max(scores[i]) for i in range(len(scores))])\n",
    "    vmin = min([np.min(scores[i]) for i in range(len(scores))])\n",
    "    vabs = max(abs(vmax), abs(vmin))\n",
    "    for i, tit in enumerate(['CD', 'Occlusion', 'Build-Up', 'IG']):\n",
    "        plt.subplot(num_rows, num_cols, 2 + i + x * num_cols)\n",
    "        if i == 0:\n",
    "            plt.ylabel('pred: ' + str(ind[0]) + '...', fontsize=15)\n",
    "        if x == 0:\n",
    "            plt.title(tit, fontsize=16)\n",
    "        p = viz.visualize_preds(scores[i], num=label_num, cbar=False) #axis_off=False,  vabs=vabs)\n",
    "        plt.xticks([])\n",
    "        plt.yticks([])\n",
    "#     divider = make_axes_locatable(plt.gca())\n",
    "#     cax = divider.append_axes(\"right\", size=\"2%\", pad=0.05)\n",
    "#     plt.colorbar(p, cax=cax)"
   ]
  },
  {
   "cell_type": "code",
   "execution_count": 10,
   "metadata": {},
   "outputs": [
    {
     "data": {
      "text/plain": [
       "<Figure size 640x480 with 0 Axes>"
      ]
     },
     "metadata": {},
     "output_type": "display_data"
    }
   ],
   "source": [
    "plt.tight_layout()\n",
    "plt.subplots_adjust(wspace=0, hspace=0)\n",
    "plt.show()"
   ]
  },
  {
   "cell_type": "code",
   "execution_count": 13,
   "metadata": {},
   "outputs": [
    {
     "data": {
      "text/plain": [
       "[34, 20, 36, 32]"
      ]
     },
     "execution_count": 13,
     "metadata": {},
     "output_type": "execute_result"
    }
   ],
   "source": [
    "im_nums"
   ]
  },
  {
   "cell_type": "code",
   "execution_count": 16,
   "metadata": {},
   "outputs": [
    {
     "data": {
      "text/plain": [
       "(784, 10)"
      ]
     },
     "execution_count": 16,
     "metadata": {},
     "output_type": "execute_result"
    }
   ],
   "source": [
    "scores[0].shape"
   ]
  }
 ],
 "metadata": {
  "kernelspec": {
   "display_name": "PyTc",
   "language": "python",
   "name": "python3"
  },
  "language_info": {
   "codemirror_mode": {
    "name": "ipython",
    "version": 3
   },
   "file_extension": ".py",
   "mimetype": "text/x-python",
   "name": "python",
   "nbconvert_exporter": "python",
   "pygments_lexer": "ipython3",
   "version": "3.12.4"
  }
 },
 "nbformat": 4,
 "nbformat_minor": 2
}
