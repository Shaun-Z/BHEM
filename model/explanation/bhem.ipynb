{
 "cells": [
  {
   "cell_type": "markdown",
   "metadata": {
    "notebookRunGroups": {
     "groupValue": "2"
    }
   },
   "source": [
    "```python\n",
    "class layer():\n",
    "    self.layer_ID\n",
    "    self.seg_num\n",
    "    self.mask\n",
    "```"
   ]
  },
  {
   "cell_type": "code",
   "execution_count": null,
   "metadata": {},
   "outputs": [],
   "source": [
    "from lime.wrappers.scikit_image import SegmentationAlgorithm\n",
    "from sklearn.utils import check_random_state\n",
    "from skimage.color import gray2rgb\n",
    "import numpy as np"
   ]
  },
  {
   "cell_type": "code",
   "execution_count": null,
   "metadata": {},
   "outputs": [],
   "source": [
    "import torch\n",
    "import torch.nn as nn\n",
    "import torch.nn.functional as F\n",
    "from matplotlib import pyplot as plt\n",
    "\n",
    "from skorch import NeuralNetClassifier\n",
    "import sys\n",
    "sys.path.append('E:/Projects/XAI/BHEM')\n",
    "sys.path.append('/run/media/xiangyu/Data/Projects/XAI/BHEM')\n",
    "from model.classifier import Cnn, getClassifier"
   ]
  },
  {
   "cell_type": "markdown",
   "metadata": {},
   "source": [
    "# Load model"
   ]
  },
  {
   "cell_type": "code",
   "execution_count": null,
   "metadata": {},
   "outputs": [],
   "source": [
    "torch.manual_seed(0)\n",
    "device = 'cuda' if torch.cuda.is_available() else 'cpu'\n",
    "cnn = getClassifier(Cnn, device, f_params='../../MINST.pkl')"
   ]
  },
  {
   "cell_type": "markdown",
   "metadata": {},
   "source": [
    "# Load MINST dataset"
   ]
  },
  {
   "cell_type": "code",
   "execution_count": null,
   "metadata": {},
   "outputs": [],
   "source": [
    "from dataset import handwriting\n",
    "mnist = handwriting('mnist_784', normalize=True)"
   ]
  },
  {
   "cell_type": "markdown",
   "metadata": {},
   "source": [
    "# Test the model"
   ]
  },
  {
   "cell_type": "code",
   "execution_count": null,
   "metadata": {},
   "outputs": [],
   "source": [
    "testnum = 50\n",
    "Images = mnist.XCnn[:testnum]\n",
    "Xlabel = cnn.predict(Images)\n",
    "y_pred = cnn.predict_proba(Images)\n",
    "Images.shape, Xlabel.shape"
   ]
  },
  {
   "cell_type": "code",
   "execution_count": null,
   "metadata": {},
   "outputs": [],
   "source": [
    "plt.figure(figsize=(10, 5))\n",
    "for i in range(testnum):\n",
    "    plt.subplot(5, 10, i+1)\n",
    "    plt.imshow(Images[i].reshape(28, 28), cmap='gray')\n",
    "    plt.axis('off')"
   ]
  },
  {
   "cell_type": "markdown",
   "metadata": {},
   "source": [
    "---"
   ]
  },
  {
   "cell_type": "code",
   "execution_count": null,
   "metadata": {},
   "outputs": [],
   "source": [
    "from bhem import layer, BhemExp"
   ]
  },
  {
   "cell_type": "markdown",
   "metadata": {},
   "source": [
    "# Test single layer"
   ]
  },
  {
   "cell_type": "code",
   "execution_count": null,
   "metadata": {},
   "outputs": [],
   "source": [
    "# import imageio\n",
    "# # Read the PNG image and convert it to a numpy array\n",
    "# image_array = imageio.imread('./iamges/banana-kiwi.png')\n",
    "\n",
    "# # Print the shape of the image array\n",
    "# # Convert the image array from 4 channels to 3 channels\n",
    "# image_array_3_channels = image_array[:, :, :3]\n",
    "\n",
    "# # Print the shape of the modified image array\n",
    "# print(image_array_3_channels.shape)"
   ]
  },
  {
   "cell_type": "markdown",
   "metadata": {},
   "source": [
    "## Before masking image"
   ]
  },
  {
   "cell_type": "markdown",
   "metadata": {},
   "source": [
    "img = Images[17].reshape(28, 28)\n",
    "# img = image_array_3_channels\n",
    "layer_test = layer(img, layer_ID=2, seg_func='basic', random_state=None, random_seed=None)\n",
    "layer_test.print_info(draw=True)"
   ]
  },
  {
   "cell_type": "markdown",
   "metadata": {},
   "source": [
    "## After masking image"
   ]
  },
  {
   "cell_type": "code",
   "execution_count": null,
   "metadata": {},
   "outputs": [],
   "source": [
    "# layer_test.mask_image([2,4,7])\n",
    "# layer_test.print_info(draw=True)"
   ]
  },
  {
   "cell_type": "markdown",
   "metadata": {},
   "source": [
    "---"
   ]
  },
  {
   "cell_type": "markdown",
   "metadata": {},
   "source": [
    "# Parent Class Test"
   ]
  },
  {
   "cell_type": "code",
   "execution_count": null,
   "metadata": {},
   "outputs": [],
   "source": [
    "import imageio\n",
    "# Read the PNG image and convert it to a numpy array\n",
    "# image_array = imageio.imread('./banana-kiwi.png')\n",
    "\n",
    "# # Print the shape of the image array\n",
    "# # Convert the image array from 4 channels to 3 channels\n",
    "# image_array_3_channels = image_array[:, :, :3]\n",
    "\n",
    "# image_array = imageio.imread('./gray.png')\n",
    "\n",
    "# image_array_grey = image_array[:, :]\n",
    "\n",
    "# Print the shape of the modified image array\n",
    "# print(image_array_3_channels.shape, image_array_grey.shape)"
   ]
  },
  {
   "cell_type": "code",
   "execution_count": null,
   "metadata": {},
   "outputs": [],
   "source": [
    "img_ID = 19\n",
    "img = Images[img_ID].reshape(28, 28)\n",
    "label = Xlabel[img_ID]\n",
    "# img = image_array.astype(np.float32)\n",
    "bhem_exp = BhemExp(img, layer_num=4, random_state=None, random_seed=None)"
   ]
  },
  {
   "cell_type": "code",
   "execution_count": null,
   "metadata": {},
   "outputs": [],
   "source": [
    "orig_img = Images[img_ID].reshape(28, 28)\n"
   ]
  },
  {
   "cell_type": "code",
   "execution_count": 54,
   "metadata": {},
   "outputs": [
    {
     "name": "stderr",
     "output_type": "stream",
     "text": [
      "INFO: Explanaion Info:\n",
      "            layer_num:          4\n",
      "            layers_mapping:     dict_keys(['12', '23', '34', '21', '32', '43'])\n",
      "        \n",
      "INFO: Layer 1\n",
      "            layer_ID:           1\n",
      "            segment_num:        3\n",
      "            seg_keys:           dict_keys([0, 1, 2])\n",
      "            segment:            Not Draw\n",
      "            seg_active:         [0, 1]\n",
      "            masked_image:       Not Draw\n",
      "        \n",
      "INFO: Layer 2\n",
      "            layer_ID:           2\n",
      "            segment_num:        9\n",
      "            seg_keys:           dict_keys([0, 1, 2, 3, 4, 5, 6, 7, 8])\n",
      "            segment:            Not Draw\n",
      "            seg_active:         [6, 7]\n",
      "            masked_image:       Not Draw\n",
      "        \n",
      "INFO: Layer 3\n",
      "            layer_ID:           3\n",
      "            segment_num:        49\n",
      "            seg_keys:           dict_keys([0, 1, 2, 3, 4, 5, 6, 7, 8, 9, 10, 11, 12, 13, 14, 15, 16, 17, 18, 19, 20, 21, 22, 23, 24, 25, 26, 27, 28, 29, 30, 31, 32, 33, 34, 35, 36, 37, 38, 39, 40, 41, 42, 43, 44, 45, 46, 47, 48])\n",
      "            segment:            Not Draw\n",
      "            seg_active:         [40, 41, 47]\n",
      "            masked_image:       Not Draw\n",
      "        \n",
      "INFO: Layer 4\n",
      "            layer_ID:           4\n",
      "            segment_num:        196\n",
      "            seg_keys:           dict_keys([0, 1, 2, 3, 4, 5, 6, 7, 8, 9, 10, 11, 12, 13, 14, 15, 16, 17, 18, 19, 20, 21, 22, 23, 24, 25, 26, 27, 28, 29, 30, 31, 32, 33, 34, 35, 36, 37, 38, 39, 40, 41, 42, 43, 44, 45, 46, 47, 48, 49, 50, 51, 52, 53, 54, 55, 56, 57, 58, 59, 60, 61, 62, 63, 64, 65, 66, 67, 68, 69, 70, 71, 72, 73, 74, 75, 76, 77, 78, 79, 80, 81, 82, 83, 84, 85, 86, 87, 88, 89, 90, 91, 92, 93, 94, 95, 96, 97, 98, 99, 100, 101, 102, 103, 104, 105, 106, 107, 108, 109, 110, 111, 112, 113, 114, 115, 116, 117, 118, 119, 120, 121, 122, 123, 124, 125, 126, 127, 128, 129, 130, 131, 132, 133, 134, 135, 136, 137, 138, 139, 140, 141, 142, 143, 144, 145, 146, 147, 148, 149, 150, 151, 152, 153, 154, 155, 156, 157, 158, 159, 160, 161, 162, 163, 164, 165, 166, 167, 168, 169, 170, 171, 172, 173, 174, 175, 176, 177, 178, 179, 180, 181, 182, 183, 184, 185, 186, 187, 188, 189, 190, 191, 192, 193, 194, 195])\n",
      "            segment:            Not Draw\n",
      "            seg_active:         [180, 181, 194, 195]\n",
      "            masked_image:       Not Draw\n",
      "        \n"
     ]
    }
   ],
   "source": [
    "bhem_exp.print_explanation_info()"
   ]
  },
  {
   "cell_type": "markdown",
   "metadata": {},
   "source": [
    "## Test keys"
   ]
  },
  {
   "cell_type": "code",
   "execution_count": null,
   "metadata": {},
   "outputs": [],
   "source": [
    "for key in bhem_exp.mappings.keys():\n",
    "    print(f\"Mapping {key}:\")\n",
    "    for i in bhem_exp.mappings[key].keys():\n",
    "        print(i)"
   ]
  },
  {
   "cell_type": "markdown",
   "metadata": {},
   "source": [
    "## Test masking image"
   ]
  },
  {
   "cell_type": "code",
   "execution_count": null,
   "metadata": {},
   "outputs": [],
   "source": [
    "img = bhem_exp.get_current_masked_image([[0],[3,5],[],[]])"
   ]
  },
  {
   "cell_type": "code",
   "execution_count": null,
   "metadata": {},
   "outputs": [],
   "source": [
    "plt.figure(figsize=(10, 5))\n",
    "plt.imshow(img, cmap='gray')\n",
    "plt.axis('off')\n",
    "plt.show()"
   ]
  },
  {
   "cell_type": "code",
   "execution_count": null,
   "metadata": {},
   "outputs": [],
   "source": [
    "bhem_exp.layers[1].print_info(draw=True),bhem_exp.layers[2].print_info(draw=True)"
   ]
  },
  {
   "cell_type": "markdown",
   "metadata": {},
   "source": [
    "## Test `get_explanation()`"
   ]
  },
  {
   "cell_type": "code",
   "execution_count": null,
   "metadata": {},
   "outputs": [],
   "source": [
    "scores = bhem_exp.get_explanation(cnn.predict_proba,label)"
   ]
  },
  {
   "cell_type": "markdown",
   "metadata": {},
   "source": [
    "---"
   ]
  },
  {
   "cell_type": "code",
   "execution_count": 44,
   "metadata": {},
   "outputs": [
    {
     "data": {
      "text/plain": [
       "((1, 10, 196), 7.2604490197747396e-09)"
      ]
     },
     "execution_count": 44,
     "metadata": {},
     "output_type": "execute_result"
    }
   ],
   "source": [
    "scores.shape, scores.sum()"
   ]
  },
  {
   "cell_type": "code",
   "execution_count": 39,
   "metadata": {},
   "outputs": [
    {
     "data": {
      "text/plain": [
       "(1, 10, 14, 14)"
      ]
     },
     "execution_count": 39,
     "metadata": {},
     "output_type": "execute_result"
    }
   ],
   "source": [
    "result = scores.reshape(1,10, 14, 14)\n",
    "# result = np.array(scores.reshape(1,10, 14, 14),dtype=float)\n",
    "result.shape"
   ]
  },
  {
   "cell_type": "code",
   "execution_count": 55,
   "metadata": {},
   "outputs": [
    {
     "name": "stdout",
     "output_type": "stream",
     "text": [
      "-0.04057498977514343\n",
      "-0.20608014747666942\n",
      "-0.07749989135945903\n",
      "-0.17743738304325474\n",
      "-0.061639794427328594\n",
      "0.040307666054261476\n",
      "-0.04550817026672065\n",
      "-0.32468769155286337\n",
      "-0.04650082522807616\n",
      "0.9396212343357031\n"
     ]
    }
   ],
   "source": [
    "for i in range(10):\n",
    "    print(result[0,i].sum())"
   ]
  },
  {
   "cell_type": "code",
   "execution_count": 57,
   "metadata": {},
   "outputs": [
    {
     "data": {
      "text/plain": [
       "array([5.6706367e-12, 9.8154523e-12, 2.4607222e-12, 3.8068315e-08,\n",
       "       4.5965730e-06, 2.1915099e-07, 5.4102696e-15, 6.8425703e-07,\n",
       "       3.0909105e-05, 9.9996352e-01], dtype=float32)"
      ]
     },
     "execution_count": 57,
     "metadata": {},
     "output_type": "execute_result"
    }
   ],
   "source": [
    "y_pred[img_ID]"
   ]
  },
  {
   "cell_type": "code",
   "execution_count": 56,
   "metadata": {},
   "outputs": [
    {
     "data": {
      "text/plain": [
       "7.2604490197747396e-09"
      ]
     },
     "execution_count": 56,
     "metadata": {},
     "output_type": "execute_result"
    }
   ],
   "source": [
    "result.sum()"
   ]
  },
  {
   "cell_type": "code",
   "execution_count": 40,
   "metadata": {},
   "outputs": [
    {
     "data": {
      "image/png": "[encoded data removed]",
      "text/plain": [
       "<Figure size 640x480 with 10 Axes>"
      ]
     },
     "metadata": {},
     "output_type": "display_data"
    }
   ],
   "source": [
    "for i in range(10):\n",
    "    plt.subplot(2, 5, i+1)\n",
    "    plt.imshow(result[0][i], cmap='gray')\n",
    "    plt.axis('off')"
   ]
  },
  {
   "cell_type": "code",
   "execution_count": 42,
   "metadata": {},
   "outputs": [],
   "source": [
    "import torch.nn.functional as F\n",
    "resized_images = F.interpolate(torch.tensor(result), size=(28, 28), mode='bilinear', align_corners=False).numpy()"
   ]
  },
  {
   "cell_type": "code",
   "execution_count": 43,
   "metadata": {},
   "outputs": [
    {
     "data": {
      "image/png": "[encoded data removed]",
      "text/plain": [
       "<Figure size 4000x1000 with 12 Axes>"
      ]
     },
     "metadata": {},
     "output_type": "display_data"
    }
   ],
   "source": [
    "bhem_exp.plot_viz(result, resized_images)"
   ]
  },
  {
   "cell_type": "code",
   "execution_count": 51,
   "metadata": {},
   "outputs": [
    {
     "data": {
      "text/plain": [
       "<matplotlib.image.AxesImage at 0x7f1bc13550d0>"
      ]
     },
     "execution_count": 51,
     "metadata": {},
     "output_type": "execute_result"
    },
    {
     "data": {
      "image/png": "[encoded data removed]",
      "text/plain": [
       "<Figure size 640x480 with 1 Axes>"
      ]
     },
     "metadata": {},
     "output_type": "display_data"
    }
   ],
   "source": [
    "plt.imshow(bhem_exp.image, cmap='gray_r', alpha=0.3)"
   ]
  },
  {
   "cell_type": "code",
   "execution_count": 53,
   "metadata": {},
   "outputs": [],
   "source": [
    "np.save(f'result_array_{img_ID}.npy', result)"
   ]
  }
 ],
 "metadata": {
  "kernelspec": {
   "display_name": "Python 3 (ipykernel)",
   "language": "python",
   "name": "python3"
  },
  "language_info": {
   "codemirror_mode": {
    "name": "ipython",
    "version": 3
   },
   "file_extension": ".py",
   "mimetype": "text/x-python",
   "name": "python",
   "nbconvert_exporter": "python",
   "pygments_lexer": "ipython3",
   "version": "3.12.4"
  }
 },
 "nbformat": 4,
 "nbformat_minor": 4
}
